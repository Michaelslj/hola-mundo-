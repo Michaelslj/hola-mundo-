{
  "cells": [
    {
      "cell_type": "markdown",
      "metadata": {
        "id": "view-in-github",
        "colab_type": "text"
      },
      "source": [
        "<a href=\"https://colab.research.google.com/github/Michaelslj/hola-mundo-/blob/main/Markdown_Guide.ipynb\" target=\"_parent\"><img src=\"https://colab.research.google.com/assets/colab-badge.svg\" alt=\"Open In Colab\"/></a>"
      ]
    },
    {
      "cell_type": "markdown",
      "metadata": {
        "id": "70pYkR9LiOV0"
      },
      "source": [
        "## What is Markdown?\n",
        "\n",
        "Colab has two types of cells: text and code. Text cells are formatted using a simple markup language called Markdown.\n",
        "\n",
        "\n",
        "To see the Markdown source, double-click a text cell, showing both the Markdown source and the rendered version. Above the Markdown source there is a toolbar to assist editing."
      ]
    },
    {
      "cell_type": "markdown",
      "source": [],
      "metadata": {
        "id": "XSzkKUsI_4Wz"
      }
    },
    {
      "cell_type": "markdown",
      "source": [
        "Juego de dados en el que el dado con numero mas alto gana"
      ],
      "metadata": {
        "id": "G9i4EyXsF5QE"
      }
    },
    {
      "cell_type": "code",
      "source": [],
      "metadata": {
        "id": "IqHqOd1UFy08"
      },
      "execution_count": null,
      "outputs": []
    },
    {
      "cell_type": "markdown",
      "source": [],
      "metadata": {
        "id": "qCEWEjLVFzx9"
      }
    },
    {
      "cell_type": "markdown",
      "source": [
        "import random\n",
        "    \n",
        "\n",
        "nom1= input(\"1er jugador ingrese su nombre:\")\n",
        "\n",
        "    \n",
        "print(nom1,\"presione enter para lanzar el dado\")\n",
        "input()\n",
        "lanzJugador1 = random.randint (1,6)\n",
        "print(f\"{nom1}, sacaste {lanzJugador1}\")\n",
        "\n",
        "nom2= input(\"2do jugador ingrese su nombre:\")\n",
        "\n",
        "\n",
        "print(nom2,\"presione enter para lanzar el dado\")\n",
        "input()\n",
        "lanzJugador2 = random.randint (1,6)\n",
        "print(f\"{nom2}, sacaste {lanzJugador2}\")\n",
        "\n",
        "if lanzJugador1 > lanzJugador2:\n",
        "    print(\"El ganador es\", nom1)\n",
        "elif lanzJugador2 > lanzJugador1:\n",
        "    print (\"El ganador es\", nom2)\n",
        "else:\n",
        "    print(nom1,\"y\" ,nom2 ,\"empataron\")\n"
      ],
      "metadata": {
        "id": "aC81CQSLFMJN"
      }
    },
    {
      "cell_type": "markdown",
      "source": [
        "Juego contra la computadora de piedra, papel y tijera"
      ],
      "metadata": {
        "id": "Kpt3JNiVGP3z"
      }
    },
    {
      "cell_type": "markdown",
      "metadata": {
        "id": "uSx6SUb1Komv"
      },
      "source": [
        "import random\n",
        "print(\"Bienvenido a juega con IA\")\n",
        "print(\"*****************************************\")\n",
        "\n",
        "print(\"Vas a jugar piedra, papel o tijera contra el computador\")\n",
        "print(\"Para PIEDRA digita 1\")\n",
        "print(\"Para PAPEL digita 2\")\n",
        "print(\"Para TIJERA digita 3\")\n",
        "\n",
        "miEleccion = int(input(\"Escoge una opcion:\"))\n",
        "if miEleccion ==1:\n",
        "    print(\"Elegiste piedra\")\n",
        "elif miEleccion==2:\n",
        "    print(\"Elegiste papel\")\n",
        "elif miEleccion==3:\n",
        "    print(\"Elegiste tijera\")\n",
        "else:\n",
        "    print(\"El numero ingresado no es el correcto\")\n",
        "    \n",
        "    \n",
        "eleccionCompu= random.randint(1,3)\n",
        "\n",
        "if eleccionCompu ==1:\n",
        "    print(\"La compu eligio piedra\")\n",
        "elif eleccionCompu==2:\n",
        "    print(\"La compu eligio papel\")\n",
        "elif eleccionCompu==3:\n",
        "    print(\"La compu eligio tijera\")\n",
        "else:\n",
        "    print(\"El numero ingresado no es el correcto\")\n",
        "    \n",
        "    \n",
        "    \n",
        "if miEleccion ==1 and eleccionCompu==1:\n",
        "    print(\"Nadie gana\")\n",
        "elif miEleccion==1 and eleccionCompu==2:\n",
        "    print(\"Gano la compu XD\")\n",
        "elif miEleccion==1 and eleccionCompu==3:\n",
        "    print(\"Felicidades le ganaste a la compu\")\n",
        "elif miEleccion==2 and eleccionCompu==1:\n",
        "    print(\"Felicidades ganaste \")\n",
        "elif miEleccion==2 and eleccionCompu==2:\n",
        "    print(\"Nadie gana\")\n",
        "elif miEleccion==2 and eleccionCompu==3:\n",
        "    print(\"Gano la compu\")\n",
        "elif miEleccion==3 and eleccionCompu==1:\n",
        "    print(\"Gana la compu XD\")\n",
        "elif miEleccion==3 and eleccionCompu==2:\n",
        "    print (\"Felicidades ganaste\")\n",
        "else:\n",
        "    print(\"Nadie gana\")"
      ]
    },
    {
      "cell_type": "markdown",
      "metadata": {
        "id": "5Y3CStVkLxqt"
      },
      "source": [
        "* [GitHub Markdown basics](https://help.github.com/articles/markdown-basics/)\n",
        "* [GitHub flavored Markdown](https://help.github.com/articles/github-flavored-markdown/)\n",
        "* [Original Markdown spec: Syntax](http://daringfireball.net/projects/markdown/syntax)\n",
        "* [Original Markdown spec: Basics](http://daringfireball.net/projects/markdown/basics)\n",
        "* [marked.js library used by Colab](https://github.com/chjj/marked)\n",
        "* [LaTex mathematics for equations](https://en.wikibooks.org/wiki/LaTeX/Mathematics)"
      ]
    }
  ],
  "metadata": {
    "colab": {
      "name": "Markdown Guide",
      "provenance": [],
      "include_colab_link": true
    },
    "kernelspec": {
      "display_name": "Python 3",
      "name": "python3"
    }
  },
  "nbformat": 4,
  "nbformat_minor": 0
}