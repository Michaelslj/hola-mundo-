{
  "nbformat": 4,
  "nbformat_minor": 0,
  "metadata": {
    "colab": {
      "provenance": [],
      "toc_visible": true,
      "authorship_tag": "ABX9TyNxOFEgcz/IHXo2ucwkwhdt",
      "include_colab_link": true
    },
    "kernelspec": {
      "name": "python3",
      "display_name": "Python 3"
    },
    "language_info": {
      "name": "python"
    }
  },
  "cells": [
    {
      "cell_type": "markdown",
      "metadata": {
        "id": "view-in-github",
        "colab_type": "text"
      },
      "source": [
        "<a href=\"https://colab.research.google.com/github/Michaelslj/hola-mundo-/blob/main/Untitled0.ipynb\" target=\"_parent\"><img src=\"https://colab.research.google.com/assets/colab-badge.svg\" alt=\"Open In Colab\"/></a>"
      ]
    },
    {
      "cell_type": "code",
      "execution_count": null,
      "metadata": {
        "id": "tcyphiEpcMa1"
      },
      "outputs": [],
      "source": []
    },
    {
      "cell_type": "markdown",
      "source": [
        "#Juego de los dados y piedra, papel y tijera\n",
        "## Podras jugar el juego de los dados con alguine y el numero mas grande ganara.\n",
        "##Ademas podras jugar piedra, papel y tijera contra la computadora."
      ],
      "metadata": {
        "id": "JCZfB_HEgjX4"
      }
    },
    {
      "cell_type": "code",
      "source": [
        "import random\n",
        "\n",
        "\n",
        "nom1= input(\"1er jugador ingrese su nombre:\")\n",
        "\n",
        "\n",
        "print(nom1,\"presione enter para lanzar el dado\")\n",
        "input()\n",
        "lanzJugador1 = random.randint (1,6)\n",
        "print(f\"{nom1}, sacaste {lanzJugador1}\")\n",
        "\n",
        "nom2= input(\"2do jugador ingrese su nombre:\")\n",
        "\n",
        "\n",
        "print(nom2,\"presione enter para lanzar el dado\")\n",
        "input()\n",
        "lanzJugador2 = random.randint (1,6)\n",
        "print(f\"{nom2}, sacaste {lanzJugador2}\")\n",
        "\n",
        "if lanzJugador1 > lanzJugador2:\n",
        "    print(\"El ganador es\", nom1)\n",
        "elif lanzJugador2 > lanzJugador1:\n",
        "    print (\"El ganador es\", nom2)\n",
        "else:\n",
        "    print(nom1,\"y\" ,nom2 ,\"empataron\")\n",
        "\n",
        "\n",
        "\n",
        "import random\n",
        "print(\"Bienvenido a juega con IA\")\n",
        "print(\"*****************************************\")\n",
        "\n",
        "print(\"Vas a jugar piedra, papel o tijera contra el computador\")\n",
        "print(\"Para PIEDRA digita 1\")\n",
        "print(\"Para PAPEL digita 2\")\n",
        "print(\"Para TIJERA digita 3\")\n",
        "\n",
        "miEleccion = int(input(\"Escoge una opcion:\"))\n",
        "if miEleccion ==1:\n",
        "    print(\"Elegiste piedra\")\n",
        "elif miEleccion==2:\n",
        "    print(\"Elegiste papel\")\n",
        "elif miEleccion==3:\n",
        "    print(\"Elegiste tijera\")\n",
        "else:\n",
        "    print(\"El numero ingresado no es el correcto\")\n",
        "\n",
        "\n",
        "eleccionCompu= random.randint(1,3)\n",
        "\n",
        "if eleccionCompu ==1:\n",
        "    print(\"La compu eligio piedra\")\n",
        "elif eleccionCompu==2:\n",
        "    print(\"La compu eligio papel\")\n",
        "elif eleccionCompu==3:\n",
        "    print(\"La compu eligio tijera\")\n",
        "else:\n",
        "    print(\"El numero ingresado no es el correcto\")\n",
        "\n",
        "\n",
        "\n",
        "if miEleccion ==1 and eleccionCompu==1:\n",
        "    print(\"Nadie gana\")\n",
        "elif miEleccion==1 and eleccionCompu==2:\n",
        "    print(\"Gano la compu XD\")\n",
        "elif miEleccion==1 and eleccionCompu==3:\n",
        "    print(\"Felicidades le ganaste a la compu\")\n",
        "elif miEleccion==2 and eleccionCompu==1:\n",
        "    print(\"Felicidades ganaste \")\n",
        "elif miEleccion==2 and eleccionCompu==2:\n",
        "    print(\"Nadie gana\")\n",
        "elif miEleccion==2 and eleccionCompu==3:\n",
        "    print(\"Gano la compu\")\n",
        "elif miEleccion==3 and eleccionCompu==1:\n",
        "    print(\"Gana la compu XD\")\n",
        "elif miEleccion==3 and eleccionCompu==2:\n",
        "    print (\"Felicidades ganaste\")\n",
        "else:\n",
        "    print(\"Nadie gana\")"
      ],
      "metadata": {
        "id": "1_EWbtn0hFEo"
      },
      "execution_count": null,
      "outputs": []
    }
  ]
}